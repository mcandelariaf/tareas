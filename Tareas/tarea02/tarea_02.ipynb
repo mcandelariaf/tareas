{
  "cells": [
    {
      "cell_type": "markdown",
      "metadata": {
        "id": "lNaBn8WeyLeR"
      },
      "source": [
        "# Problema 1\n"
      ]
    },
    {
      "cell_type": "code",
      "execution_count": null,
      "metadata": {
        "id": "dZjX8ShJyVlR"
      },
      "outputs": [],
      "source": [
        "numero = -101\n",
        "while numero <= 199:\n",
        "  numero = numero +1\n",
        "  print(numero)"
      ]
    },
    {
      "cell_type": "markdown",
      "metadata": {
        "id": "XEBv8vMO3JIa"
      },
      "source": [
        "# Problema 2\n"
      ]
    },
    {
      "cell_type": "code",
      "execution_count": null,
      "metadata": {
        "id": "bnnV1R2n0zJV"
      },
      "outputs": [],
      "source": [
        "numero = -101\n",
        "while numero <= 199:\n",
        "  numero = numero +1\n",
        "  if numero % 6 == 0:\n",
        "    print(numero)"
      ]
    },
    {
      "cell_type": "markdown",
      "metadata": {
        "id": "HOaLf_he3UEm"
      },
      "source": [
        "# Problema 3"
      ]
    },
    {
      "cell_type": "code",
      "execution_count": null,
      "metadata": {
        "id": "FaeYSVYb3ZCc"
      },
      "outputs": [],
      "source": [
        "numero1 = float(input(\"Ingresa el primer número\"))\n",
        "numero2 = float(input(\"Ingresa el segundo número\"))\n",
        "\n",
        "suma = numero1 + numero2\n",
        "\n",
        "if suma < 200:\n",
        "  print(\"Menor a 200\")\n",
        "elif 200 < suma < 250:\n",
        "  print(\"Mayor a 200\")\n",
        "else:\n",
        "  print(\"Mayor a 250\")\n"
      ]
    },
    {
      "cell_type": "markdown",
      "metadata": {
        "id": "i101IN1S97wf"
      },
      "source": [
        "# Problema 4"
      ]
    },
    {
      "cell_type": "code",
      "execution_count": null,
      "metadata": {
        "colab": {
          "base_uri": "https://localhost:8080/"
        },
        "id": "JRnPab_VDCC7",
        "outputId": "b6820591-e62a-4990-938f-b8d682bc7031"
      },
      "outputs": [],
      "source": [
        "# ESTE SIRVIÓ\n",
        "edad = int(input(\"Ingresa tu edad:\"))\n",
        "gusta_musica_urbana = input(\"¿Te gusta la música urbana? (Responde sí o no):\")\n",
        "\n",
        "\n",
        "if edad >= 18 and gusta_musica_urbana == \"si\":\n",
        "    resultado = (\"Eres mayor de edad y te gusta la música urbana\")\n",
        "elif edad < 18 and gusta_musica_urbana == \"si\":\n",
        "    resultado = (\"Eres menor de edad y te gusta la música urbana\")\n",
        "elif edad >= 18 and gusta_musica_urbana == \"no\":\n",
        "    resultado = (\"Eres mayor de edad y no te gusta la música urbana\")\n",
        "else:\n",
        "    resultado = (\"Eres menor de edad y no te gusta la música urbana\")\n",
        "\n",
        "print(resultado)"
      ]
    },
    {
      "cell_type": "markdown",
      "metadata": {
        "id": "PabVR9K9JIWc"
      },
      "source": [
        "## Este código no sirve pero fue el primero que hice y nose por qué no me resultó"
      ]
    },
    {
      "cell_type": "code",
      "execution_count": null,
      "metadata": {
        "colab": {
          "base_uri": "https://localhost:8080/"
        },
        "id": "KfHmjkke9-BM",
        "outputId": "e7332ed6-d605-4fac-fc7a-17dea67bb0ea"
      },
      "outputs": [],
      "source": [
        "# Este no sirve\n",
        "edad = int(input(\"Ingresa tu edad\"))\n",
        "respuesta_musica_urbana = (input(\"¿Te gusta la música urbana? (Responde sí o no)\"))\n",
        "\n",
        "respuesta_gusta_musica_urbana = True\n",
        "\n",
        "if edad >= 18 and respuesta_gusta_musica_urbana:\n",
        "  print(\"Eres mayor de edad y te gusta la música urbana\")\n",
        "elif edad < 18 and respuesta_gusta_musica_urbana:\n",
        "  print(\"Eres menor de edad y te gusta la música urbana\")\n",
        "elif edad >= 18 and not respuesta_gusta_musica_urbana:\n",
        "  print(\"Eres mayor de edad y no te gusta la música urbana\")\n",
        "elif edad < 18 and not respuesta_gusta_musica_urbana:\n",
        "  print(\"Eres menor de edad y no te gusta la música urbana\")\n"
      ]
    }
  ],
  "metadata": {
    "colab": {
      "collapsed_sections": [
        "lNaBn8WeyLeR",
        "XEBv8vMO3JIa"
      ],
      "provenance": []
    },
    "kernelspec": {
      "display_name": "Python 3",
      "name": "python3"
    },
    "language_info": {
      "name": "python"
    }
  },
  "nbformat": 4,
  "nbformat_minor": 0
}
